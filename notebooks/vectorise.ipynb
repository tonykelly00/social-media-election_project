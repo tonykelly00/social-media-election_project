{
 "cells": [
  {
   "cell_type": "markdown",
   "metadata": {},
   "source": []
  },
  {
   "cell_type": "code",
   "execution_count": 27,
   "metadata": {},
   "outputs": [],
   "source": [
    "import pandas as pd\n",
    "#from textblob import TextBlob\n",
    "from sklearn.feature_extraction.text import TfidfVectorizer\n",
    "from sklearn.cluster import KMeans\n",
    "import seaborn as sns\n",
    "\n",
    "# Sample election-related posts\n",
    "election_posts = [\n",
    "    \"Candidate A's policies are fantastic! #Election2025\",\n",
    "    \"I'm worried about the future if Candidate B wins. #Election2025\",\n",
    "    \"Candidate A's speech was inspiring. #Election2025\",\n",
    "    \"I don't trust Candidate B at all. #Election2025\",\n",
    "    \"We need a change, and Candidate A is the best choice. #Election2025\",\n",
    "    \"Candidate B's plans for healthcare are promising. #Election2025\",\n",
    "    \"Candidate A has a strong stance on education reform. #Election2025\",\n",
    "    \"The debate between Candidate A and Candidate B was intense. #Election2025\",\n",
    "    \"I'm excited to vote for Candidate A. #Election2025\",\n",
    "    \"Candidate B's economic policies are concerning. #Election2025\",\n",
    "    \"Candidate A's environmental policies are much needed. #Election2025\",\n",
    "    \"I believe Candidate B will bring positive change. #Election2025\",\n",
    "    \"Candidate A's experience makes them the best choice. #Election2025\",\n",
    "    \"Candidate B's foreign policy is well thought out. #Election2025\",\n",
    "    \"I'm undecided between Candidate A and Candidate B. #Election2025\"\n",
    "]\n",
    "df = pd.DataFrame(election_posts, columns=[\"Content\"])\n",
    "df['likes']=[3,1,1,0,2,1,2,2,2,5,0,0,1,27,0]"
   ]
  },
  {
   "cell_type": "code",
   "execution_count": null,
   "metadata": {},
   "outputs": [
    {
     "ename": "NameError",
     "evalue": "name 'df_a' is not defined",
     "output_type": "error",
     "traceback": [
      "\u001b[1;31m---------------------------------------------------------------------------\u001b[0m",
      "\u001b[1;31mNameError\u001b[0m                                 Traceback (most recent call last)",
      "Cell \u001b[1;32mIn[43], line 28\u001b[0m\n\u001b[0;32m     25\u001b[0m     plt\u001b[38;5;241m.\u001b[39mtitle(\u001b[38;5;124m'\u001b[39m\u001b[38;5;124mThe Elbow Method showing the optimal k\u001b[39m\u001b[38;5;124m'\u001b[39m)\n\u001b[0;32m     26\u001b[0m     plt\u001b[38;5;241m.\u001b[39mshow()\n\u001b[1;32m---> 28\u001b[0m plot_elbow_method(pd\u001b[38;5;241m.\u001b[39mconcat([\u001b[43mdf_a\u001b[49m,df_b]))\n",
      "\u001b[1;31mNameError\u001b[0m: name 'df_a' is not defined"
     ]
    }
   ],
   "source": [
    "# Determine the optimal number of clusters using the elbow method\n",
    "import matplotlib.pyplot as plt\n",
    "\n",
    "def plot_elbow_method(X):\n",
    "    distortions = []\n",
    "    K = range(1, 10)\n",
    "    for k in K:\n",
    "        kmeans = KMeans(n_clusters=k, random_state=42)\n",
    "        kmeans.fit(X)\n",
    "        distortions.append(kmeans.inertia_)\n",
    "    \n",
    "    plt.figure(figsize=(8, 4))\n",
    "    plt.plot(K, distortions, 'bx-')\n",
    "    plt.xlabel('Number of clusters')\n",
    "    plt.ylabel('Distortion')\n",
    "    plt.title('The Elbow Method showing the optimal k')\n",
    "    plt.show()\n",
    "\n",
    "#plot_elbow_method(X)"
   ]
  },
  {
   "cell_type": "code",
   "execution_count": 29,
   "metadata": {},
   "outputs": [],
   "source": [
    "# Vectorize the posts using TF-IDF\n",
    "vectorizer = TfidfVectorizer(stop_words='english')\n",
    "matrix = vectorizer.fit_transform(df['Content']).toarray()\n",
    "feature_names = vectorizer.get_feature_names_out()\n",
    "df_tfidf = pd.DataFrame(matrix, columns=feature_names)\n",
    "#print(df_tfidf)\n",
    "\n",
    "X = vectorizer.fit_transform(df[\"Content\"])"
   ]
  },
  {
   "cell_type": "code",
   "execution_count": 30,
   "metadata": {},
   "outputs": [
    {
     "name": "stdout",
     "output_type": "stream",
     "text": [
      "                                              Content  likes  Cluster\n",
      "0   Candidate A's policies are fantastic! #Electio...      3        2\n",
      "1   I'm worried about the future if Candidate B wi...      1        1\n",
      "2   Candidate A's speech was inspiring. #Election2025      1        1\n",
      "3     I don't trust Candidate B at all. #Election2025      0        1\n",
      "4   We need a change, and Candidate A is the best ...      2        3\n",
      "5   Candidate B's plans for healthcare are promisi...      1        0\n",
      "6   Candidate A has a strong stance on education r...      2        1\n",
      "7   The debate between Candidate A and Candidate B...      2        1\n",
      "8   I'm excited to vote for Candidate A. #Election...      2        1\n",
      "9   Candidate B's economic policies are concerning...      5        2\n",
      "10  Candidate A's environmental policies are much ...      0        2\n",
      "11  I believe Candidate B will bring positive chan...      0        1\n",
      "12  Candidate A's experience makes them the best c...      1        3\n",
      "13  Candidate B's foreign policy is well thought o...     27        1\n",
      "14  I'm undecided between Candidate A and Candidat...      0        1\n"
     ]
    }
   ],
   "source": [
    "# Cluster the posts using K-Means\n",
    "num_clusters = 4  # Set the number of clusters\n",
    "kmeans = KMeans(n_clusters=num_clusters, random_state=42)\n",
    "kmeans.fit(X)\n",
    "\n",
    "# Add the cluster labels to the DataFrame\n",
    "df[\"Cluster\"] = kmeans.labels_\n",
    "\n",
    "# Display the clustered DataFrame\n",
    "print(df)"
   ]
  },
  {
   "cell_type": "code",
   "execution_count": 31,
   "metadata": {},
   "outputs": [
    {
     "name": "stdout",
     "output_type": "stream",
     "text": [
      "Topic 0:\n",
      "candidate policies election2025 fantastic trust don intense debate needed environmental\n",
      "Topic 1:\n",
      "speech inspiring concerning economic election2025 candidate thought foreign policy policies\n",
      "Topic 2:\n",
      "candidate undecided election2025 plans promising healthcare experience makes stance education\n",
      "Topic 3:\n",
      "vote excited election2025 candidate future worried wins need change choice\n"
     ]
    }
   ],
   "source": [
    "# Import Latent Dirichlet Allocation\n",
    "from sklearn.decomposition import LatentDirichletAllocation\n",
    "\n",
    "# Apply LDA to the TF-IDF matrix\n",
    "lda = LatentDirichletAllocation(n_components=4, random_state=42)\n",
    "lda.fit(matrix)\n",
    "\n",
    "# Display the topics\n",
    "def display_topics(model, feature_names, no_top_words):\n",
    "\tfor topic_idx, topic in enumerate(model.components_):\n",
    "\t\tprint(\"Topic %d:\" % (topic_idx))\n",
    "\t\tprint(\" \".join([feature_names[i]\n",
    "\t\t\t\t\t\tfor i in topic.argsort()[:-no_top_words - 1:-1]]))\n",
    "\n",
    "no_top_words = 10\n",
    "display_topics(lda, feature_names, no_top_words)\n",
    "\n",
    "# Get the topic distribution for each document\n",
    "topic_distribution = lda.transform(matrix)\n",
    "df[\"Topic\"] = topic_distribution.argmax(axis=1)"
   ]
  },
  {
   "cell_type": "code",
   "execution_count": null,
   "metadata": {},
   "outputs": [
    {
     "data": {
      "image/png": "[encoded data removed]",
      "text/plain": [
       "<Figure size 1200x600 with 2 Axes>"
      ]
     },
     "metadata": {},
     "output_type": "display_data"
    }
   ],
   "source": [
    "fig, ax = plt.subplots(1, 2, figsize=(12, 6))\n",
    "\n",
    "#get sum likes\n",
    "df['Cluster_Likes'] = df.groupby('Cluster')['likes'].transform('sum')\n",
    "df['Topic_Likes'] = df.groupby('Topic')['likes'].transform('sum')\n",
    "\n",
    "sns.histplot(df, x='Cluster', hue='Cluster_Likes', palette='viridis', ax=ax[0])\n",
    "ax[0].set_title('Cluster Distribution with Likes')\n",
    "\n",
    "df['Topic_Likes'] = df.groupby('Topic')['likes'].transform('sum')\n",
    "\n",
    "sns.histplot(df, x='Topic', hue='Topic_Likes', palette='viridis', ax=ax[1])\n",
    "ax[1].set_title('Topic Distribution with Likes')\n",
    "\n",
    "plt.tight_layout()\n",
    "plt.show()"
   ]
  },
  {
   "cell_type": "code",
   "execution_count": 38,
   "metadata": {},
   "outputs": [
    {
     "data": {
      "text/plain": [
       "np.int64(35)"
      ]
     },
     "execution_count": 38,
     "metadata": {},
     "output_type": "execute_result"
    }
   ],
   "source": [
    "df[df['Cluster']==1]['likes'].sum()"
   ]
  },
  {
   "cell_type": "markdown",
   "metadata": {},
   "source": [
    "words for cluster 1"
   ]
  },
  {
   "cell_type": "code",
   "execution_count": 24,
   "metadata": {},
   "outputs": [
    {
     "name": "stdout",
     "output_type": "stream",
     "text": [
      "Top words for cluster 1: ['candidate', 'election2025', 'undecided', 'inspiring', 'speech', 'trust', 'vote', 'excited', 'don', 'intense']\n"
     ]
    }
   ],
   "source": [
    "cl1 = df[df['Cluster'] == 1]\n",
    "\n",
    "# Get the indices of the posts in cluster 1\n",
    "cl1_indices = cl1.index\n",
    "\n",
    "# Get the TF-IDF values for the posts in cluster 1\n",
    "cl1_tfidf = matrix[cl1_indices]\n",
    "\n",
    "# Calculate the mean TF-IDF score for each word in cluster 1\n",
    "cl1_mean_tfidf = cl1_tfidf.mean(axis=0)\n",
    "\n",
    "# Get the words with the highest mean TF-IDF scores\n",
    "top_words_indices = cl1_mean_tfidf.argsort()[::-1][:10]\n",
    "top_words = [feature_names[i] for i in top_words_indices]\n",
    "\n",
    "print(\"Top words for cluster 1:\", top_words)"
   ]
  }
 ],
 "metadata": {
  "kernelspec": {
   "display_name": "BlueSky",
   "language": "python",
   "name": "python3"
  },
  "language_info": {
   "codemirror_mode": {
    "name": "ipython",
    "version": 3
   },
   "file_extension": ".py",
   "mimetype": "text/x-python",
   "name": "python",
   "nbconvert_exporter": "python",
   "pygments_lexer": "ipython3",
   "version": "3.13.2"
  }
 },
 "nbformat": 4,
 "nbformat_minor": 2
}
