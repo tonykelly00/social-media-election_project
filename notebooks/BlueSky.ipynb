{
 "cells": [
  {
   "cell_type": "code",
   "execution_count": null,
   "metadata": {},
   "outputs": [
    {
     "data": {
      "text/plain": [
       "ProfileViewDetailed(did='did:plc:ndhluqppcqyezrevmomju6p6', handle='tonykellyeu.bsky.social', associated=ProfileAssociated(chat=None, feedgens=0, labeler=False, lists=0, starter_packs=0, py_type='app.bsky.actor.defs#profileAssociated'), avatar='https://cdn.bsky.app/img/avatar/plain/did:plc:ndhluqppcqyezrevmomju6p6/bafkreigm4reaqe4wtn4ptwo6zufrx52apxnadf4vfnj4ko3jiafpfybp4y@jpeg', banner=None, created_at='2025-02-24T09:41:59.544Z', description=None, display_name='', followers_count=1, follows_count=1, indexed_at='2025-02-24T09:42:51.844Z', joined_via_starter_pack=None, labels=[], pinned_post=None, posts_count=0, viewer=ViewerState(blocked_by=False, blocking=None, blocking_by_list=None, followed_by=None, following=None, known_followers=None, muted=False, muted_by_list=None, py_type='app.bsky.actor.defs#viewerState'), py_type='app.bsky.actor.defs#profileViewDetailed')"
      ]
     },
     "execution_count": 1,
     "metadata": {},
     "output_type": "execute_result"
    }
   ],
   "source": [
    "from atproto import Client\n",
    "import json\n",
    "import pandas as pd\n",
    "import matplotlib.pylab as plt\n",
    "import seaborn as sns\n",
    "\n",
    "from textblob import TextBlob\n",
    "from sklearn.feature_extraction.text import TfidfVectorizer\n",
    "from sklearn.cluster import KMeans\n",
    "\n",
    "client = Client()\n",
    "\n",
    "client.login(json.load(open(\"../data/bluesky_creds.json\"))['login'], json.load(open(\"../data/bluesky_creds.json\"))['password'])"
   ]
  },
  {
   "cell_type": "markdown",
   "metadata": {},
   "source": [
    "gets batches of 100 "
   ]
  },
  {
   "cell_type": "code",
   "execution_count": null,
   "metadata": {},
   "outputs": [],
   "source": [
    "# import os\n",
    "# import sys\n",
    "# sys.path.append('../src')\n",
    "# from data_analysis import posts_df, retrieve_posts, textblob_analy"
   ]
  },
  {
   "cell_type": "code",
   "execution_count": 2,
   "metadata": {},
   "outputs": [],
   "source": [
    "#helper functions\n",
    "# Extract relevant information from posts\n",
    "def posts_df(posts):\n",
    "    data = []\n",
    "    for post in posts:\n",
    "        data.append({\n",
    "            \"Post URI\": post.uri,\n",
    "            \"Content\": post.record.text,\n",
    "            \"Author\": post.author.handle,\n",
    "            \"Timestamp\": post.indexed_at,\n",
    "            \"Likes\": post.like_count,\n",
    "            \"Replies\": post.reply_count,\n",
    "            \"Reposts\": post.repost_count\n",
    "        })\n",
    "\n",
    "    # Create DataFrame\n",
    "    df = pd.DataFrame(data)\n",
    "    return df\n",
    "\n",
    "def retrieve_posts(params):\n",
    "    all_posts = []\n",
    "    while True:\n",
    "        resp = client.app.bsky.feed.search_posts(params=params)\n",
    "        posts = resp.posts\n",
    "        print(f\"Retrieved {len(posts)} posts\")\n",
    "        if len(posts) <=1:\n",
    "            break\n",
    "        all_posts.extend(posts)\n",
    "        params['until'] = posts[-1].indexed_at\n",
    "\n",
    "    #df=posts_df(all_posts)\n",
    "    all_posts\n",
    "    return all_posts\n",
    "\n",
    "\n",
    "from textblob import TextBlob\n",
    "def textblob_analy(df):\n",
    "    p=[]\n",
    "    s=[]\n",
    "    for c in df['Content']:\n",
    "        blob = TextBlob(c)\n",
    "        sentiment = blob.sentiment\n",
    "        p.append(round(sentiment.polarity, 3))\n",
    "        s.append(round(sentiment.subjectivity, 2))\n",
    "        #print(f\"Polarity: {round(sentiment.polarity, 2)}, Subjectivity: {round(sentiment.subjectivity, 2)}\")\n",
    "        #print(f\"Polarity: {sentiment.polarity}, Subjectivity: {round(sentiment.subjectivity, 2)}\")\n",
    "\n",
    "    df['subjectivity']=s\n",
    "    df['polarity']=p"
   ]
  },
  {
   "cell_type": "code",
   "execution_count": null,
   "metadata": {},
   "outputs": [],
   "source": [
    "# # loop over many 100 batched \n",
    "# #define time point eg after election till now\n",
    "\n",
    "# params = {'q': 'germany election', 'limit': 100,\n",
    "#           'since': '2025-02-15T12:00:00Z', 'until' : '2025-02-23T12:00:00Z'\n",
    "#           }\n",
    "\n",
    "# all_posts = retrieve_posts(params)\n",
    "# df=posts_df(all_posts)\n",
    "# textblob_analy(df)\n",
    "# df.to_json('../data/before_posts.json', orient='records', lines=True)"
   ]
  },
  {
   "cell_type": "code",
   "execution_count": null,
   "metadata": {},
   "outputs": [],
   "source": [
    "# params = {'q': 'germany election', 'limit': 100,\n",
    "#           'since': '2025-02-23T12:00:00Z', 'until' : '2025-02-27T12:00:00Z'\n",
    "#           }\n",
    "\n",
    "# all_posts = retrieve_posts(params)\n",
    "# df=posts_df(all_posts)\n",
    "# textblob_analy(df)\n",
    "# df.to_json('../data/after_posts.json', orient='records', lines=True)"
   ]
  },
  {
   "cell_type": "markdown",
   "metadata": {},
   "source": [
    "just use the already retrieved posts"
   ]
  },
  {
   "cell_type": "code",
   "execution_count": 3,
   "metadata": {},
   "outputs": [],
   "source": [
    "df_b = pd.read_json('../data/before_posts.json', orient='records', lines=True)\n",
    "df_a = pd.read_json('../data/after_posts.json', orient='records', lines=True)"
   ]
  },
  {
   "cell_type": "markdown",
   "metadata": {},
   "source": [
    "try for individual parties"
   ]
  },
  {
   "cell_type": "code",
   "execution_count": null,
   "metadata": {},
   "outputs": [],
   "source": [
    "params = {'q': 'germany election AFD', 'limit': 100,\n",
    "          'since': '2025-02-22T12:00:00Z', 'until' : '2025-02-23T12:00:00Z'\n",
    "          }\n",
    "all_posts = retrieve_posts(params)\n",
    "afd_df=posts_df(all_posts)\n",
    "textblob_analy(afd_df)\n",
    "afd_df.to_json('../data/afd_posts.json', orient='records', lines=True)\n"
   ]
  },
  {
   "cell_type": "code",
   "execution_count": null,
   "metadata": {},
   "outputs": [],
   "source": [
    "import plotly.graph_objects as go\n",
    "\n",
    "fig = go.Figure(\n",
    "    data=[\n",
    "        go.Scatter(x=df_b['polarity'], y=df['subjectivity'],\n",
    "            mode=\"markers\",\n",
    "            marker={\"size\": 5},\n",
    "            text=df['Content'],\n",
    "            hovertemplate=\"<b>Polarity: %{x:.2f}</b><br>\" +\n",
    "            \"Subjectivity: %{y:.2f}<br>\" +\n",
    "            \"Content: %{text}<br>\" +\n",
    "            \"<extra></extra>\"\n",
    "                   ),\n",
    "        go.Scatter(x=df_a['polarity'], y=afd_df['subjectivity'],\n",
    "            mode=\"markers\",\n",
    "            marker={\"size\": 5, \"color\": \"red\"},\n",
    "            text=afd_df['Content'],\n",
    "            hovertemplate=\"<b>Polarity: %{x:.2f}</b><br>\" +\n",
    "            \"Subjectivity: %{y:.2f}<br>\" +\n",
    "            \"Content: %{text}<br>\" +\n",
    "            \"<extra></extra>\"\n",
    "                   )\n",
    "    ],\n",
    "    layout=go.Layout(title=go.layout.Title(text=\"subjectivity vs polarity\"))\n",
    ")\n",
    "\n",
    "fig.show()"
   ]
  },
  {
   "cell_type": "markdown",
   "metadata": {},
   "source": [
    "I like the scatter plots but they are difficult to parse quickly \n",
    "Maybe be easier to plot the histograms or density plots and look at shifts in the distribution"
   ]
  },
  {
   "cell_type": "code",
   "execution_count": null,
   "metadata": {},
   "outputs": [],
   "source": [
    "fig, ax = plt.subplots(figsize=(8, 8))\n",
    "# sns.histplot(data=df, x='subjectivity', ax=ax)\n",
    "# sns.histplot(data=AFD_df, x='subjectivity', ax=ax, color='red')\n",
    "\n",
    "sns.kdeplot(df_b, x='subjectivity', fill=True, label='Distribution 1', bw_adjust=0.5)\n",
    "sns.kdeplot(df_a, x='subjectivity', fill=True, label='Distribution 2', bw_adjust=0.5)\n"
   ]
  },
  {
   "cell_type": "code",
   "execution_count": null,
   "metadata": {},
   "outputs": [],
   "source": [
    "import nltk\n",
    "from nltk.corpus import stopwords\n",
    "from nltk.tokenize import word_tokenize\n",
    "\n",
    "stop_words = set(stopwords.words('english'))\n",
    "\n",
    "def filter_words(df):\n",
    "    filtered = []\n",
    "    for reviews in df['Content']:\n",
    "        word_tokens = word_tokenize(reviews)\n",
    "        for w in word_tokens:\n",
    "                if w not in stop_words and w.isalpha():\n",
    "                    filtered.append(w)\n",
    "    return (filtered)"
   ]
  },
  {
   "cell_type": "code",
   "execution_count": null,
   "metadata": {},
   "outputs": [],
   "source": [
    "filter_words(df)"
   ]
  },
  {
   "cell_type": "code",
   "execution_count": 11,
   "metadata": {},
   "outputs": [],
   "source": [
    "df_a['period']='after'\n",
    "df_b['period']='before'\n",
    "df=pd.concat([df_a, df_b])"
   ]
  },
  {
   "cell_type": "code",
   "execution_count": 12,
   "metadata": {},
   "outputs": [
    {
     "data": {
      "image/png": "[encoded data removed]",
      "text/plain": [
       "<Figure size 800x400 with 1 Axes>"
      ]
     },
     "metadata": {},
     "output_type": "display_data"
    }
   ],
   "source": [
    "def plot_elbow_method(dfs):\n",
    "    vectorizer = TfidfVectorizer(stop_words='english')\n",
    "    X = vectorizer.fit_transform(dfs[\"Content\"])\n",
    "\n",
    "    distortions = []\n",
    "    K = range(1, 10)\n",
    "    for k in K:\n",
    "        kmeans = KMeans(n_clusters=k, random_state=42)\n",
    "        kmeans.fit(X)\n",
    "        distortions.append(kmeans.inertia_)\n",
    "    \n",
    "    plt.figure(figsize=(8, 4))\n",
    "    plt.plot(K, distortions, 'bx-')\n",
    "    plt.xlabel('Number of clusters')\n",
    "    plt.ylabel('Distortion')\n",
    "    plt.title('The Elbow Method showing the optimal k')\n",
    "    plt.show()\n",
    "\n",
    "plot_elbow_method(df)"
   ]
  },
  {
   "cell_type": "code",
   "execution_count": 13,
   "metadata": {},
   "outputs": [],
   "source": [
    "def vectorise_posts(df):\n",
    "    # Vectorize the posts using TF-IDF\n",
    "    vectorizer = TfidfVectorizer(stop_words='english')\n",
    "    matrix = vectorizer.fit_transform(df['Content']).toarray()\n",
    "    feature_names = vectorizer.get_feature_names_out()\n",
    "    df_tfidf = pd.DataFrame(matrix, columns=feature_names)\n",
    "    #print(df_tfidf)\n",
    "\n",
    "    X = vectorizer.fit_transform(df[\"Content\"])\n",
    "\n",
    "    # Determine the optimal number of clusters using the elbow method\n",
    "    import matplotlib.pyplot as plt\n",
    "\n",
    "\n",
    "\n",
    "    return X, matrix, feature_names, df_tfidf\n",
    "\n",
    "X, matrix, feature_names, df_tfidf = vectorise_posts(df)"
   ]
  },
  {
   "cell_type": "code",
   "execution_count": 14,
   "metadata": {},
   "outputs": [
    {
     "name": "stdout",
     "output_type": "stream",
     "text": [
      "                                                Content  Cluster  Likes\n",
      "0     Make no mistake. Yes, it seems that multi-part...        2     10\n",
      "1     🇩🇪 🗳️ @jannikjansen.bsky.social, @lindnerjs.bs...        2      4\n",
      "2     We need a true leader who will demand an audit...        4      0\n",
      "3     We need a true leader who will demand an audit...        4      2\n",
      "4     We need a true leader who will demand an audit...        4      0\n",
      "...                                                 ...      ...    ...\n",
      "1988  2/2\\nOn Feb. 23 we'll have elections in German...        2      1\n",
      "1989  2/2\\nOn Feb. 23 we'll have elections in German...        2      1\n",
      "1990  oh... & btw: #IVoteVolt! in the upcoming #elec...        2      1\n",
      "1991  The european leaders are piiiiiiiiissed. It's ...        2      8\n",
      "1992  At 23.02.25 we will have election-day!\\n\\nWe h...        2     21\n",
      "\n",
      "[4580 rows x 3 columns]\n"
     ]
    }
   ],
   "source": [
    "# Cluster the posts using K-Means\n",
    "num_clusters = 5  # Set the number of clusters\n",
    "kmeans = KMeans(n_clusters=num_clusters, random_state=42)\n",
    "kmeans.fit(X)\n",
    "\n",
    "# Add the cluster labels to the DataFrame\n",
    "df[\"Cluster\"] = kmeans.labels_\n",
    "\n",
    "# Display the clustered DataFrame\n",
    "print(df[['Content','Cluster', 'Likes']])"
   ]
  },
  {
   "cell_type": "code",
   "execution_count": 16,
   "metadata": {},
   "outputs": [
    {
     "name": "stdout",
     "output_type": "stream",
     "text": [
      "Topic 0:\n",
      "germany election afd german results right 2025 www vote today\n",
      "Topic 1:\n",
      "germany right election far party afd merz german friedrich cdu\n",
      "Topic 2:\n",
      "germany election musk trump afd power nazis hitler government german\n",
      "Topic 3:\n",
      "election germany audit elon turnout france true canada demand non\n",
      "Topic 4:\n",
      "doing countries thing currently spread started nations substack musks interference\n"
     ]
    }
   ],
   "source": [
    "# Import Latent Dirichlet Allocation\n",
    "from sklearn.decomposition import LatentDirichletAllocation\n",
    "\n",
    "# Apply LDA to the TF-IDF matrix\n",
    "lda = LatentDirichletAllocation(n_components=5, random_state=42)\n",
    "lda.fit(matrix)\n",
    "\n",
    "# Display the topics\n",
    "def display_topics(model, feature_names, no_top_words):\n",
    "\tfor topic_idx, topic in enumerate(model.components_):\n",
    "\t\tprint(\"Topic %d:\" % (topic_idx))\n",
    "\t\tprint(\" \".join([feature_names[i]\n",
    "\t\t\t\t\t\tfor i in topic.argsort()[:-no_top_words - 1:-1]]))\n",
    "\n",
    "no_top_words = 10\n",
    "display_topics(lda, feature_names, no_top_words)\n",
    "\n",
    "# Get the topic distribution for each document\n",
    "topic_distribution = lda.transform(matrix)\n",
    "df[\"Topic\"] = topic_distribution.argmax(axis=1)"
   ]
  },
  {
   "cell_type": "code",
   "execution_count": 17,
   "metadata": {},
   "outputs": [
    {
     "data": {
      "image/png": "[encoded data removed]",
      "text/plain": [
       "<Figure size 1200x600 with 2 Axes>"
      ]
     },
     "metadata": {},
     "output_type": "display_data"
    }
   ],
   "source": [
    "fig, ax = plt.subplots(1, 2, figsize=(12, 6))\n",
    "\n",
    "#get sum likes\n",
    "df['Cluster_Likes'] = df.groupby('Cluster')['Likes'].transform('sum')\n",
    "df['Topic_Likes'] = df.groupby('Topic')['Likes'].transform('sum')\n",
    "\n",
    "sns.histplot(df, x='Cluster', hue='Cluster_Likes', palette='viridis', ax=ax[0])\n",
    "ax[0].set_title('Cluster Distribution with Likes')\n",
    "\n",
    "df['Topic_Likes'] = df.groupby('Topic')['Likes'].transform('sum')\n",
    "\n",
    "sns.histplot(df, x='Topic', hue='Topic_Likes', palette='viridis', ax=ax[1])\n",
    "ax[1].set_title('Topic Distribution with Likes')\n",
    "\n",
    "plt.tight_layout()\n",
    "plt.show()"
   ]
  },
  {
   "cell_type": "code",
   "execution_count": null,
   "metadata": {},
   "outputs": [
    {
     "name": "stdout",
     "output_type": "stream",
     "text": [
      "Top words for cluster 2: ['germany', 'election', 'afd', 'party', 'german', 'results', 'right', 'merz', 'trump', 'victory']\n"
     ]
    }
   ],
   "source": [
    "cl0 = df[df['Cluster'] == 0]\n",
    "cl1 = df[df['Cluster'] == 1]\n",
    "cl2 = df[df['Cluster'] == 2]\n",
    "cl3 = df[df['Cluster'] == 3]\n",
    "cl4 = df[df['Cluster'] == 4]\n",
    "\n",
    "#indicies\n",
    "cl0_indices = cl0.index\n",
    "cl1_indices = cl1.index\n",
    "cl2_indices = cl2.index\n",
    "cl3_indices = cl3.index\n",
    "cl4_indices = cl4.index\n",
    "\n",
    "# TF-IDF values for the posts in the cluster\n",
    "cl0_tfidf = matrix[cl0_indices]\n",
    "cl1_tfidf = matrix[cl1_indices]\n",
    "\n",
    "\n",
    "#mean TF-IDF score for each word in cluster 1\n",
    "cl0_mean_tfidf = cl0_tfidf.mean(axis=0)\n",
    "cl1_mean_tfidf = cl1_tfidf.mean(axis=0)\n",
    "\n",
    "# words with the highest mean TF-IDF scores\n",
    "top_words_indices = cl1_mean_tfidf.argsort()[::-1][:10]\n",
    "top_words = [feature_names[i] for i in top_words_indices]\n",
    "\n",
    "print(\"Top words for cluster 2:\", top_words)"
   ]
  },
  {
   "cell_type": "code",
   "execution_count": null,
   "metadata": {},
   "outputs": [],
   "source": [
    "# try to get top word for each cluster and get unique words WORKIN\n",
    "def top_words(df):\n",
    "    top_words={}\n",
    "    \n",
    "    for i in cluster:\n",
    "        cl = df[df['Cluster'] == 0]\n",
    "    \n",
    "\n",
    "    #indicies\n",
    "    cl0_indices = cl0.index\n",
    "    cl1_indices = cl1.index\n",
    "    cl2_indices = cl2.index\n",
    "    cl3_indices = cl3.index\n",
    "    cl4_indices = cl4.index\n",
    "\n",
    "    # TF-IDF values for the posts in the cluster\n",
    "    cl0_tfidf = matrix[cl0_indices]\n",
    "    cl1_tfidf = matrix[cl1_indices]\n",
    "\n",
    "\n",
    "    # Calculate the mean TF-IDF score for each word in cluster 1\n",
    "    cl0_mean_tfidf = cl0_tfidf.mean(axis=0)\n",
    "    cl1_mean_tfidf = cl1_tfidf.mean(axis=0)\n",
    "\n",
    "    # Get the words with the highest mean TF-IDF scores\n",
    "    top_words_indices = cl1_mean_tfidf.argsort()[::-1][:10]\n",
    "    top_words = [feature_names[i] for i in top_words_indices]\n",
    "\n",
    "    print(\"Top words for cluster 2:\", top_words)"
   ]
  }
 ],
 "metadata": {
  "kernelspec": {
   "display_name": "VIZ",
   "language": "python",
   "name": "python3"
  },
  "language_info": {
   "codemirror_mode": {
    "name": "ipython",
    "version": 3
   },
   "file_extension": ".py",
   "mimetype": "text/x-python",
   "name": "python",
   "nbconvert_exporter": "python",
   "pygments_lexer": "ipython3",
   "version": "3.10.16"
  }
 },
 "nbformat": 4,
 "nbformat_minor": 2
}
