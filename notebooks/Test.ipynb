{
 "cells": [
  {
   "cell_type": "markdown",
   "metadata": {},
   "source": []
  },
  {
   "cell_type": "code",
   "execution_count": null,
   "metadata": {},
   "outputs": [
    {
     "name": "stdout",
     "output_type": "stream",
     "text": [
      "likes: 1\n"
     ]
    }
   ],
   "source": [
    "# post = client.get_posts(['at://did:plc:kvwvcn5iqfooopmyzvb4qzba/app.bsky.feed.post/3k2yihcrp6f2c']).posts[0]\n",
    "# print('likes:', post.like_count)"
   ]
  },
  {
   "cell_type": "code",
   "execution_count": null,
   "metadata": {},
   "outputs": [],
   "source": [
    "fig, ax = plt.subplots(figsize=(8, 8))\n",
    "sns.histplot(data=df1, x='polarity')\n",
    "sns.histplot(data=df1, x='subjectivity')\n",
    "\n",
    "#could compare basic poperties of teh pol and sub between bluesky and matadon"
   ]
  },
  {
   "cell_type": "code",
   "execution_count": null,
   "metadata": {},
   "outputs": [],
   "source": [
    "#response = client.app.bsky.feed.search_posts(params=params)\n",
    "posts = resp.posts\n",
    "\n",
    "for post in posts:\n",
    "    print(f\"Post URI: {post.uri}\")\n",
    "    print(f\"Content: {post.record.text}\")\n",
    "    print(f\"Author: @{post.author.handle}\")\n",
    "    print(f\"Timestamp: {post.indexed_at}\")\n",
    "    print(f\"Likes: {post.like_count}, Replies: {post.reply_count}, Reposts: {post.repost_count}\")\n",
    "    print()\n",
    "\n"
   ]
  },
  {
   "cell_type": "code",
   "execution_count": 1,
   "metadata": {},
   "outputs": [
    {
     "name": "stdout",
     "output_type": "stream",
     "text": [
      "Polarity: 0.75, Subjectivity: 0.8\n"
     ]
    }
   ],
   "source": [
    "from textblob import TextBlob\n",
    "\n",
    "text = \"I love this beautiful day!\"\n",
    "blob = TextBlob(text)\n",
    "sentiment = blob.sentiment\n",
    "print(f\"Polarity: {sentiment.polarity}, Subjectivity: {sentiment.subjectivity}\")"
   ]
  },
  {
   "cell_type": "code",
   "execution_count": 8,
   "metadata": {},
   "outputs": [
    {
     "name": "stderr",
     "output_type": "stream",
     "text": [
      "[nltk_data] Downloading package punkt to\n",
      "[nltk_data]     c:\\anaconda3\\envs\\BlueSky\\nltk_data...\n",
      "[nltk_data]   Package punkt is already up-to-date!\n",
      "[nltk_data] Downloading package punkt_tab to\n",
      "[nltk_data]     c:\\anaconda3\\envs\\BlueSky\\nltk_data...\n",
      "[nltk_data]   Unzipping tokenizers\\punkt_tab.zip.\n"
     ]
    },
    {
     "data": {
      "text/plain": [
       "True"
      ]
     },
     "execution_count": 8,
     "metadata": {},
     "output_type": "execute_result"
    }
   ],
   "source": [
    "import nltk\n",
    "import os\n",
    "\n",
    "# Define your custom NLTK data directory\n",
    "nltk_data_dir = os.path.expanduser(\"c:\\\\anaconda3\\\\envs\\\\BlueSky\\\\nltk_data\")\n",
    "\n",
    "# Add the custom directory to NLTK's data path\n",
    "nltk.data.path.append(nltk_data_dir)\n",
    "\n",
    "# Download the 'punkt' tokenizer data to the custom directory\n",
    "nltk.download('punkt', download_dir=nltk_data_dir)\n",
    "nltk.download('punkt_tab', download_dir=nltk_data_dir)"
   ]
  },
  {
   "cell_type": "code",
   "execution_count": null,
   "metadata": {},
   "outputs": [],
   "source": [
    "import plotly.graph_objects as go\n",
    "\n",
    "fig = go.Figure(\n",
    "    data=[\n",
    "        go.Scatter(\n",
    "            x=df['polarity'], \n",
    "            y=df['subjectivity'],\n",
    "            mode=\"markers\",\n",
    "            marker=dict(size=5, color=df['Cluster'], colorscale='Viridis', showscale=True),\n",
    "            text=df['Content'],\n",
    "            hovertemplate=\"<b>Polarity: %{x:.2f}</b><br>\" +\n",
    "                          \"Subjectivity: %{y:.2f}<br>\" +\n",
    "                          \"Content: %{text}<br>\" +\n",
    "                          \"<extra></extra>\"\n",
    "         ),\n",
    "        # go.Scatter(\n",
    "        #     x=afd_df['polarity'], \n",
    "        #     y=afd_df['subjectivity'],\n",
    "        #     mode=\"markers\",\n",
    "        #     marker=dict(size=5, color='red'),\n",
    "        #     text=afd_df['Content'],\n",
    "        #     hovertemplate=\"<b>Polarity: %{x:.2f}</b><br>\" +\n",
    "        #                   \"Subjectivity: %{y:.2f}<br>\" +\n",
    "        #                   \"Content: %{text}<br>\" +\n",
    "        #                   \"<extra></extra>\"\n",
    "        # )\n",
    "    ],\n",
    "    layout=go.Layout(title=go.layout.Title(text=\"subjectivity vs polarity\"))\n",
    ")\n",
    "\n",
    "fig.show()"
   ]
  },
  {
   "cell_type": "code",
   "execution_count": 2,
   "metadata": {},
   "outputs": [
    {
     "name": "stdout",
     "output_type": "stream",
     "text": [
      "Classification: pos\n"
     ]
    }
   ],
   "source": [
    "from textblob.classifiers import NaiveBayesClassifier\n",
    "\n",
    "train = [\n",
    "    ('I love this sandwich.', 'pos'),\n",
    "    ('This is an amazing place!', 'pos'),\n",
    "    ('I feel very good about these beers.', 'pos'),\n",
    "    ('I do not like this restaurant.', 'neg'),\n",
    "    ('I am tired of this stuff.', 'neg'),\n",
    "    ('I can\\'t deal with this.', 'neg')\n",
    "]\n",
    "cl = NaiveBayesClassifier(train)\n",
    "\n",
    "text = \"This is an awesome library.\"\n",
    "classification = cl.classify(text)\n",
    "print(f\"Classification: {classification}\")\n"
   ]
  },
  {
   "cell_type": "code",
   "execution_count": null,
   "metadata": {},
   "outputs": [
    {
     "name": "stdout",
     "output_type": "stream",
     "text": [
      "                                                Post  Cluster\n",
      "0  Candidate A's policies are fantastic! #Electio...        1\n",
      "1  I'm worried about the future if Candidate B wi...        0\n",
      "2  Candidate A's speech was inspiring. #Election2025        1\n",
      "3    I don't trust Candidate B at all. #Election2025        1\n",
      "4  We need a change, and Candidate A is the best ...        1\n"
     ]
    }
   ],
   "source": [
    "import pandas as pd\n",
    "from textblob import TextBlob\n",
    "from sklearn.feature_extraction.text import TfidfVectorizer\n",
    "from sklearn.cluster import KMeans\n",
    "\n",
    "# Sample election-related posts\n",
    "election_posts = [\n",
    "    \"Candidate A's policies are fantastic! #Election2025\",\n",
    "    \"I'm worried about the future if Candidate B wins. #Election2025\",\n",
    "    \"Candidate A's speech was inspiring. #Election2025\",\n",
    "    \"I don't trust Candidate B at all. #Election2025\",\n",
    "    \"We need a change, and Candidate A is the best choice. #Election2025\"\n",
    "]\n",
    "\n",
    "\n",
    "df = pd.DataFrame(election_posts, columns=[\"Post\"])\n",
    "\n",
    "# Vectorize the posts using TF-IDF\n",
    "vectorizer = TfidfVectorizer(stop_words='english')\n",
    "X = vectorizer.fit_transform(df[\"Post\"])\n",
    "\n",
    "# Cluster the posts using K-Means\n",
    "num_clusters = 2  # Set the number of clusters\n",
    "kmeans = KMeans(n_clusters=num_clusters, random_state=42)\n",
    "kmeans.fit(X)\n",
    "\n",
    "# Add the cluster labels to the DataFrame\n",
    "df[\"Cluster\"] = kmeans.labels_\n",
    "\n",
    "\n",
    "print(df)\n"
   ]
  }
 ],
 "metadata": {
  "kernelspec": {
   "display_name": "BlueSky",
   "language": "python",
   "name": "python3"
  },
  "language_info": {
   "codemirror_mode": {
    "name": "ipython",
    "version": 3
   },
   "file_extension": ".py",
   "mimetype": "text/x-python",
   "name": "python",
   "nbconvert_exporter": "python",
   "pygments_lexer": "ipython3",
   "version": "3.13.2"
  }
 },
 "nbformat": 4,
 "nbformat_minor": 2
}
